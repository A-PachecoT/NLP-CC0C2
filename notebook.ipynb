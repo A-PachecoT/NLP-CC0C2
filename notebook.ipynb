{
 "cells": [
  {
   "cell_type": "markdown",
   "metadata": {},
   "source": [
    "# Proyecto 4: Pipeline de preprocesamiento\n",
    "\n",
    "## Objetivo\n",
    "Crear 3 pipelines para 5,000 oraciones:\n",
    "- (a) crudo\n",
    "- (b) normalizado (minúsculas, sin puntuación)\n",
    "- (c) normalizado+lematizado (spaCy ES)\n",
    "\n",
    "## Historias de usuario\n",
    "- Como analista de texto, quiero comparar pipelines para reducir OOV sin perder información\n",
    "- Como investigador, necesito métricas de vocabulario para optimizar preprocesamiento"
   ]
  },
  {
   "cell_type": "markdown",
   "metadata": {},
   "source": [
    "## Setup reproducible"
   ]
  },
  {
   "cell_type": "code",
   "execution_count": null,
   "metadata": {},
   "outputs": [],
   "source": [
    "# Seeds para reproducibilidad\n",
    "import random\n",
    "import numpy as np\n",
    "random.seed(42)\n",
    "np.random.seed(42)\n",
    "\n",
    "# Imports básicos\n",
    "import pandas as pd\n",
    "import matplotlib.pyplot as plt\n",
    "import spacy\n",
    "import re\n",
    "from collections import Counter\n",
    "\n",
    "print(\"Setup completo\")"
   ]
  },
  {
   "cell_type": "markdown",
   "metadata": {},
   "source": [
    "## Carga de datos"
   ]
  },
  {
   "cell_type": "code",
   "execution_count": null,
   "metadata": {},
   "outputs": [],
   "source": [
    "# Cargar dataset y tomar 5,000 oraciones\n",
    "df = pd.read_csv('dataset/nlp_prueba_cc0c2_large.csv')\n",
    "textos = df['Texto'].head(5000).tolist()\n",
    "\n",
    "print(f\"Oraciones cargadas: {len(textos)}\")\n",
    "print(f\"Ejemplo: {textos[0]}\")"
   ]
  },
  {
   "cell_type": "markdown",
   "metadata": {},
   "source": [
    "## Pipelines"
   ]
  },
  {
   "cell_type": "code",
   "execution_count": null,
   "metadata": {},
   "outputs": [],
   "source": [
    "# (a) Pipeline crudo\n",
    "def pipeline_crudo(texto):\n",
    "    \"\"\"Tokenización básica por espacios\"\"\"\n",
    "    return texto.split()\n",
    "\n",
    "# (b) Pipeline normalizado\n",
    "def pipeline_normalizado(texto):\n",
    "    \"\"\"Minúsculas + sin puntuación\"\"\"\n",
    "    # minúsculas\n",
    "    texto = texto.lower()\n",
    "    # quitar puntuación\n",
    "    texto = re.sub(r'[.,;:!?()\\[\\]{}\"\\']', '', texto)\n",
    "    return texto.split()\n",
    "\n",
    "print(\"Pipelines definidos\")"
   ]
  },
  {
   "cell_type": "code",
   "execution_count": null,
   "metadata": {},
   "outputs": [],
   "source": [
    "# (c) Pipeline con spaCy\n",
    "nlp = spacy.load('es_core_news_sm')\n",
    "\n",
    "def pipeline_spacy(texto):\n",
    "    \"\"\"Normalizado + lematizado\"\"\"\n",
    "    # normalizar primero\n",
    "    texto = texto.lower()\n",
    "    texto = re.sub(r'[.,;:!?()\\[\\]{}\"\\']', '', texto)\n",
    "    \n",
    "    # procesar con spaCy\n",
    "    doc = nlp(texto)\n",
    "    lemmas = [token.lemma_ for token in doc if not token.is_space]\n",
    "    return lemmas\n",
    "\n",
    "print(\"Pipeline spaCy listo\")"
   ]
  },
  {
   "cell_type": "markdown",
   "metadata": {},
   "source": [
    "## Procesamiento de textos"
   ]
  },
  {
   "cell_type": "code",
   "execution_count": null,
   "metadata": {},
   "outputs": [],
   "source": [
    "# Procesar con los 3 pipelines\n",
    "print(\"Procesando 5,000 oraciones...\")\n",
    "\n",
    "# Pipeline (a) crudo\n",
    "tokens_crudo = []\n",
    "for texto in textos:\n",
    "    tokens_crudo.extend(pipeline_crudo(texto))\n",
    "\n",
    "# Pipeline (b) normalizado\n",
    "tokens_norm = []\n",
    "for texto in textos:\n",
    "    tokens_norm.extend(pipeline_normalizado(texto))\n",
    "\n",
    "print(f\"Pipeline crudo: {len(tokens_crudo)} tokens\")\n",
    "print(f\"Pipeline normalizado: {len(tokens_norm)} tokens\")"
   ]
  },
  {
   "cell_type": "code",
   "execution_count": null,
   "metadata": {},
   "outputs": [],
   "source": [
    "# Pipeline (c) spaCy - más lento\n",
    "print(\"Procesando con spaCy...\")\n",
    "tokens_spacy = []\n",
    "for i, texto in enumerate(textos):\n",
    "    if i % 1000 == 0:\n",
    "        print(f\"Procesadas: {i}\")\n",
    "    tokens_spacy.extend(pipeline_spacy(texto))\n",
    "\n",
    "print(f\"Pipeline spaCy: {len(tokens_spacy)} tokens\")"
   ]
  },
  {
   "cell_type": "markdown",
   "metadata": {},
   "source": [
    "## Vocabularios y métricas"
   ]
  },
  {
   "cell_type": "code",
   "execution_count": null,
   "metadata": {},
   "outputs": [],
   "source": [
    "# Calcular vocabularios\n",
    "vocab_crudo = set(tokens_crudo)\n",
    "vocab_norm = set(tokens_norm)\n",
    "vocab_spacy = set(tokens_spacy)\n",
    "\n",
    "print(f\"Vocabulario crudo: {len(vocab_crudo)} tokens únicos\")\n",
    "print(f\"Vocabulario normalizado: {len(vocab_norm)} tokens únicos\")\n",
    "print(f\"Vocabulario spaCy: {len(vocab_spacy)} tokens únicos\")\n",
    "\n",
    "# Ejemplos de tokens\n",
    "print(f\"\\nEjemplos crudo: {list(vocab_crudo)[:10]}\")\n",
    "print(f\"Ejemplos normalizado: {list(vocab_norm)[:10]}\")\n",
    "print(f\"Ejemplos spaCy: {list(vocab_spacy)[:10]}\")"
   ]
  }
 ],
 "metadata": {
  "kernelspec": {
   "display_name": "Python 3",
   "language": "python",
   "name": "python3"
  },
  "language_info": {
   "name": "python",
   "version": "3.13.7"
  }
 },
 "nbformat": 4,
 "nbformat_minor": 2
}