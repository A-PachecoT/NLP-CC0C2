{
 "cells": [
  {
   "cell_type": "markdown",
   "metadata": {},
   "source": [
    "# Proyecto 4: Pipeline de preprocesamiento\n",
    "\n",
    "## Objetivo\n",
    "Crear 3 pipelines para 5,000 oraciones:\n",
    "- (a) crudo\n",
    "- (b) normalizado (minúsculas, sin puntuación)\n",
    "- (c) normalizado+lematizado (spaCy ES)\n",
    "\n",
    "## Historias de usuario\n",
    "- Como analista de texto, quiero comparar pipelines para reducir OOV sin perder información\n",
    "- Como investigador, necesito métricas de vocabulario para optimizar preprocesamiento"
   ]
  },
  {
   "cell_type": "markdown",
   "metadata": {},
   "source": [
    "## Setup reproducible"
   ]
  },
  {
   "cell_type": "code",
   "execution_count": 1,
   "metadata": {},
   "outputs": [
    {
     "name": "stdout",
     "output_type": "stream",
     "text": [
      "Setup completo\n"
     ]
    }
   ],
   "source": [
    "# Seeds para reproducibilidad\n",
    "import random\n",
    "import numpy as np\n",
    "random.seed(42)\n",
    "np.random.seed(42)\n",
    "\n",
    "# Imports básicos\n",
    "import pandas as pd\n",
    "import matplotlib.pyplot as plt\n",
    "import spacy\n",
    "import re\n",
    "from collections import Counter\n",
    "\n",
    "print(\"Setup completo\")"
   ]
  },
  {
   "cell_type": "markdown",
   "metadata": {},
   "source": [
    "## Carga de datos"
   ]
  },
  {
   "cell_type": "code",
   "execution_count": 3,
   "metadata": {},
   "outputs": [
    {
     "name": "stdout",
     "output_type": "stream",
     "text": [
      "Oraciones cargadas: 5000\n",
      "Ejemplo: La tokenización es clave para procesar texto\n"
     ]
    }
   ],
   "source": [
    "# Cargar dataset y tomar 5,000 oraciones\n",
    "df = pd.read_csv('dataset/nlp_prueba_cc0c2_large.csv')\n",
    "textos = df['Texto'].head(5000).tolist()\n",
    "\n",
    "print(f\"Oraciones cargadas: {len(textos)}\")\n",
    "print(f\"Ejemplo: {textos[0]}\")"
   ]
  },
  {
   "cell_type": "markdown",
   "metadata": {},
   "source": [
    "## Pipelines"
   ]
  },
  {
   "cell_type": "code",
   "execution_count": 4,
   "metadata": {},
   "outputs": [
    {
     "name": "stdout",
     "output_type": "stream",
     "text": [
      "Pipelines definidos\n"
     ]
    }
   ],
   "source": [
    "# (a) Pipeline crudo\n",
    "def pipeline_crudo(texto):\n",
    "    \"\"\"Tokenización básica por espacios\"\"\"\n",
    "    return texto.split()\n",
    "\n",
    "# (b) Pipeline normalizado\n",
    "def pipeline_normalizado(texto):\n",
    "    \"\"\"Minúsculas + sin puntuación\"\"\"\n",
    "    # minúsculas\n",
    "    texto = texto.lower()\n",
    "    # quitar puntuación\n",
    "    texto = re.sub(r'[.,;:!?()\\[\\]{}\"\\']', '', texto)\n",
    "    return texto.split()\n",
    "\n",
    "print(\"Pipelines definidos\")"
   ]
  },
  {
   "cell_type": "code",
   "execution_count": 5,
   "metadata": {},
   "outputs": [
    {
     "name": "stdout",
     "output_type": "stream",
     "text": [
      "Pipeline spaCy listo\n"
     ]
    }
   ],
   "source": [
    "# (c) Pipeline con spaCy\n",
    "nlp = spacy.load('es_core_news_sm')\n",
    "\n",
    "def pipeline_spacy(texto):\n",
    "    \"\"\"Normalizado + lematizado\"\"\"\n",
    "    # normalizar primero\n",
    "    texto = texto.lower()\n",
    "    texto = re.sub(r'[.,;:!?()\\[\\]{}\"\\']', '', texto)\n",
    "    \n",
    "    # procesar con spaCy\n",
    "    doc = nlp(texto)\n",
    "    lemmas = [token.lemma_ for token in doc if not token.is_space]\n",
    "    return lemmas\n",
    "\n",
    "print(\"Pipeline spaCy listo\")"
   ]
  },
  {
   "cell_type": "code",
   "execution_count": null,
   "metadata": {},
   "outputs": [],
   "source": []
  }
 ],
 "metadata": {
  "kernelspec": {
   "display_name": ".venv",
   "language": "python",
   "name": "python3"
  },
  "language_info": {
   "codemirror_mode": {
    "name": "ipython",
    "version": 3
   },
   "file_extension": ".py",
   "mimetype": "text/x-python",
   "name": "python",
   "nbconvert_exporter": "python",
   "pygments_lexer": "ipython3",
   "version": "3.13.7"
  }
 },
 "nbformat": 4,
 "nbformat_minor": 2
}
