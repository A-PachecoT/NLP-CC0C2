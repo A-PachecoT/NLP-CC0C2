{
 "cells": [
  {
   "cell_type": "markdown",
   "source": "# Conclusiones\n\n## Trade-offs encontrados\n\n- **Pipeline crudo**: Mantiene toda la información pero vocabulario grande (101 tokens)\n- **Pipeline normalizado**: Reduce vocabulario 33% (68 tokens) pero pierde información de mayúsculas/puntuación\n- **Pipeline spaCy**: Similar reducción (69 tokens) pero más costoso computacionalmente\n\n## Riesgos identificados\n\n- Dataset muy repetitivo genera OOV=0% irreal\n- spaCy no maneja bien términos técnicos en inglés\n- Normalización excesiva puede dañar tareas de sentimientos o NER\n\n## Next sprint\n\n- Implementar detector de idioma para code-switching\n- Probar con dataset más diverso (noticias, tweets)\n- Comparar con stemmer tradicional (SnowballStemmer)\n- Evaluar impacto en tarea downstream (clasificación)",
   "metadata": {}
  },
  {
   "cell_type": "markdown",
   "source": "## 4. Estrategias para code-switching\n\nPara manejar mezcla de idiomas:\n- **Detección por diccionario**: Tener lista de términos técnicos en inglés y no procesarlos\n- **Detección automática**: Usar librería como langdetect para cada palabra\n- **Mantener forma original**: No lematizar palabras detectadas como inglés\n- **Embeddings multilingües**: Usar modelos que entienden varios idiomas\n\nEn nuestro caso, spaCy español trata \"embeddings\" como palabra desconocida y la deja igual. Mejor sería detectarla como inglés y procesarla con reglas especiales.\n\n## 5. Caso donde normalización degrade un modelo\n\n**Ejemplo: Detector de spam en emails**\n\nSi normalizas agresivamente:\n- \"GANA $$$$ AHORA!!!\" → \"gana ahora\"\n- \"Estimado cliente\" → \"estimado cliente\"\n\nAmbos quedan iguales después de normalizar, pero el primero es claramente spam. Las mayúsculas excesivas, símbolos repetidos y puntuación son señales importantes de spam que perdiste al normalizar.",
   "metadata": {}
  },
  {
   "cell_type": "markdown",
   "source": "# Preguntas teóricas\n\n## 1. Stemming vs. Lematización\n\n**Stemming** corta el final de las palabras sin entender gramática. Es rápido pero tosco. Por ejemplo: \"corriendo\" → \"corr\" (corta el -iendo). A veces produce palabras que no existen.\n\n**Lematización** usa un diccionario y reglas gramaticales para encontrar la raíz real. Es más lento pero preciso. Por ejemplo: \"corriendo\" → \"correr\" (encuentra el verbo base). spaCy hace esto en español.\n\n## 2. Impacto de segmentación en OOV\n\nUna buena segmentación (dividir texto en palabras) reduce el OOV porque:\n- Separa correctamente las palabras pegadas\n- Identifica palabras compuestas\n- Maneja bien la puntuación\n\nSi segmentas mal (ejemplo: \"no-entiendo\" como una sola palabra), aumenta el OOV porque esa combinación exacta probablemente no la viste en entrenamiento.\n\n## 3. Riesgos de normalización agresiva\n\nNormalizar demasiado puede borrar información importante:\n- Quitar mayúsculas: pierdes nombres propios (Juan vs juan)\n- Quitar acentos: cambias significado (si vs sí)\n- Quitar puntuación: pierdes tono (¡genial! vs genial)\n- Quitar números: pierdes cantidades y fechas\n\nPara análisis de sentimientos esto es fatal porque \"¡¡¡INCREÍBLE!!!\" y \"increible\" expresan intensidades muy diferentes.",
   "metadata": {}
  },
  {
   "cell_type": "code",
   "source": "# Tabla resumen de métricas\nimport pandas as pd\n\ntabla_metricas = pd.DataFrame({\n    'Pipeline': ['Crudo', 'Normalizado', 'spaCy'],\n    'Vocab Size': [len(vocab_crudo), len(vocab_norm), len(vocab_spacy)],\n    'OOV Rate (%)': [oov_rate_crudo, oov_rate_norm, oov_rate_spacy],\n    'Tokens totales': [len(tokens_crudo), len(tokens_norm), len(tokens_spacy)]\n})\n\nprint(\"\\nTabla de métricas:\")\nprint(tabla_metricas.to_string(index=False))\n\n# Guardar tabla\ntabla_metricas.to_csv('out/tabla_metricas.csv', index=False)\nprint(\"\\nTabla guardada: out/tabla_metricas.csv\")",
   "metadata": {},
   "execution_count": null,
   "outputs": []
  },
  {
   "cell_type": "code",
   "source": "# Gráfico 2: OOV rates\nfig, ax = plt.subplots(figsize=(8, 5))\noov_rates = [oov_rate_crudo, oov_rate_norm, oov_rate_spacy]\n\nbars = ax.bar(pipelines, oov_rates, color=['#e74c3c', '#3498db', '#2ecc71'])\nax.set_ylabel('OOV Rate (%)')\nax.set_title('Tasa de Out-of-Vocabulary por pipeline')\n\n# Agregar valores\nfor bar, rate in zip(bars, oov_rates):\n    ax.text(bar.get_x() + bar.get_width()/2, bar.get_height() + 0.01,\n            f'{rate:.2f}%', ha='center', va='bottom')\n\nplt.tight_layout()\nplt.savefig('out/oov_rates.png')\nplt.show()\nprint(\"Gráfico guardado: out/oov_rates.png\")",
   "metadata": {},
   "execution_count": null,
   "outputs": []
  },
  {
   "cell_type": "code",
   "source": "## Gráficos y visualizaciones\n\nimport matplotlib.pyplot as plt\n\n# Gráfico 1: Tamaño de vocabularios\nfig, ax = plt.subplots(figsize=(8, 5))\npipelines = ['Crudo', 'Normalizado', 'spaCy']\nvocab_sizes = [len(vocab_crudo), len(vocab_norm), len(vocab_spacy)]\n\nbars = ax.bar(pipelines, vocab_sizes, color=['#e74c3c', '#3498db', '#2ecc71'])\nax.set_ylabel('Tokens únicos')\nax.set_title('Tamaño de vocabulario por pipeline')\n\n# Agregar valores en las barras\nfor bar, size in zip(bars, vocab_sizes):\n    ax.text(bar.get_x() + bar.get_width()/2, bar.get_height() + 1, \n            str(size), ha='center', va='bottom')\n\nplt.tight_layout()\nplt.savefig('out/vocab_sizes.png')\nplt.show()\nprint(\"Gráfico guardado: out/vocab_sizes.png\")",
   "metadata": {},
   "execution_count": null,
   "outputs": []
  },
  {
   "cell_type": "markdown",
   "metadata": {},
   "source": [
    "# Proyecto 4: Pipeline de preprocesamiento\n",
    "\n",
    "## Objetivo\n",
    "Crear 3 pipelines para 5,000 oraciones:\n",
    "- (a) crudo\n",
    "- (b) normalizado (minúsculas, sin puntuación)\n",
    "- (c) normalizado+lematizado (spaCy ES)\n",
    "\n",
    "## Historias de usuario\n",
    "- Como analista de texto, quiero comparar pipelines para reducir OOV sin perder información\n",
    "- Como investigador, necesito métricas de vocabulario para optimizar preprocesamiento"
   ]
  },
  {
   "cell_type": "markdown",
   "metadata": {},
   "source": [
    "## Setup reproducible"
   ]
  },
  {
   "cell_type": "code",
   "execution_count": 7,
   "metadata": {},
   "outputs": [
    {
     "name": "stdout",
     "output_type": "stream",
     "text": [
      "Setup completo\n"
     ]
    }
   ],
   "source": [
    "# Seeds para reproducibilidad\n",
    "import random\n",
    "import numpy as np\n",
    "random.seed(42)\n",
    "np.random.seed(42)\n",
    "\n",
    "# Imports básicos\n",
    "import pandas as pd\n",
    "import matplotlib.pyplot as plt\n",
    "import spacy\n",
    "import re\n",
    "from collections import Counter\n",
    "\n",
    "print(\"Setup completo\")"
   ]
  },
  {
   "cell_type": "markdown",
   "metadata": {},
   "source": [
    "## Carga de datos"
   ]
  },
  {
   "cell_type": "code",
   "execution_count": 8,
   "metadata": {},
   "outputs": [
    {
     "name": "stdout",
     "output_type": "stream",
     "text": [
      "Oraciones cargadas: 5000\n",
      "Ejemplo: La tokenización es clave para procesar texto\n"
     ]
    }
   ],
   "source": [
    "# Cargar dataset y tomar 5,000 oraciones\n",
    "df = pd.read_csv('dataset/nlp_prueba_cc0c2_large.csv')\n",
    "textos = df['Texto'].head(5000).tolist()\n",
    "\n",
    "print(f\"Oraciones cargadas: {len(textos)}\")\n",
    "print(f\"Ejemplo: {textos[0]}\")"
   ]
  },
  {
   "cell_type": "markdown",
   "metadata": {},
   "source": [
    "## Pipelines"
   ]
  },
  {
   "cell_type": "code",
   "execution_count": 9,
   "metadata": {},
   "outputs": [
    {
     "name": "stdout",
     "output_type": "stream",
     "text": [
      "Pipelines definidos\n"
     ]
    }
   ],
   "source": [
    "# (a) Pipeline crudo\n",
    "def pipeline_crudo(texto):\n",
    "    \"\"\"Tokenización básica por espacios\"\"\"\n",
    "    return texto.split()\n",
    "\n",
    "# (b) Pipeline normalizado\n",
    "def pipeline_normalizado(texto):\n",
    "    \"\"\"Minúsculas + sin puntuación\"\"\"\n",
    "    # minúsculas\n",
    "    texto = texto.lower()\n",
    "    # quitar puntuación\n",
    "    texto = re.sub(r'[.,;:!?()\\[\\]{}\"\\']', '', texto)\n",
    "    return texto.split()\n",
    "\n",
    "print(\"Pipelines definidos\")"
   ]
  },
  {
   "cell_type": "code",
   "execution_count": 10,
   "metadata": {},
   "outputs": [
    {
     "name": "stdout",
     "output_type": "stream",
     "text": [
      "Pipeline spaCy listo\n"
     ]
    }
   ],
   "source": [
    "# (c) Pipeline con spaCy\n",
    "nlp = spacy.load('es_core_news_sm')\n",
    "\n",
    "def pipeline_spacy(texto):\n",
    "    \"\"\"Normalizado + lematizado\"\"\"\n",
    "    # normalizar primero\n",
    "    texto = texto.lower()\n",
    "    texto = re.sub(r'[.,;:!?()\\[\\]{}\"\\']', '', texto)\n",
    "    \n",
    "    # procesar con spaCy\n",
    "    doc = nlp(texto)\n",
    "    lemmas = [token.lemma_ for token in doc if not token.is_space]\n",
    "    return lemmas\n",
    "\n",
    "print(\"Pipeline spaCy listo\")"
   ]
  },
  {
   "cell_type": "markdown",
   "metadata": {},
   "source": [
    "## Procesamiento de textos"
   ]
  },
  {
   "cell_type": "code",
   "execution_count": 11,
   "metadata": {},
   "outputs": [
    {
     "name": "stdout",
     "output_type": "stream",
     "text": [
      "Procesando 5,000 oraciones...\n",
      "Pipeline crudo: 40140 tokens\n",
      "Pipeline normalizado: 40140 tokens\n"
     ]
    }
   ],
   "source": [
    "# Procesar con los 3 pipelines\n",
    "print(\"Procesando 5,000 oraciones...\")\n",
    "\n",
    "# Pipeline (a) crudo\n",
    "tokens_crudo = []\n",
    "for texto in textos:\n",
    "    tokens_crudo.extend(pipeline_crudo(texto))\n",
    "\n",
    "# Pipeline (b) normalizado\n",
    "tokens_norm = []\n",
    "for texto in textos:\n",
    "    tokens_norm.extend(pipeline_normalizado(texto))\n",
    "\n",
    "print(f\"Pipeline crudo: {len(tokens_crudo)} tokens\")\n",
    "print(f\"Pipeline normalizado: {len(tokens_norm)} tokens\")"
   ]
  },
  {
   "cell_type": "code",
   "execution_count": 12,
   "metadata": {},
   "outputs": [
    {
     "name": "stdout",
     "output_type": "stream",
     "text": [
      "Procesando con spaCy...\n",
      "Procesadas: 0\n",
      "Procesadas: 1000\n",
      "Procesadas: 2000\n",
      "Procesadas: 3000\n",
      "Procesadas: 4000\n",
      "Pipeline spaCy: 40140 tokens\n"
     ]
    }
   ],
   "source": [
    "# Pipeline (c) spaCy - más lento\n",
    "print(\"Procesando con spaCy...\")\n",
    "tokens_spacy = []\n",
    "for i, texto in enumerate(textos):\n",
    "    if i % 1000 == 0:\n",
    "        print(f\"Procesadas: {i}\")\n",
    "    tokens_spacy.extend(pipeline_spacy(texto))\n",
    "\n",
    "print(f\"Pipeline spaCy: {len(tokens_spacy)} tokens\")"
   ]
  },
  {
   "cell_type": "markdown",
   "metadata": {},
   "source": [
    "## Vocabularios y métricas"
   ]
  },
  {
   "cell_type": "code",
   "execution_count": 18,
   "metadata": {},
   "outputs": [
    {
     "name": "stdout",
     "output_type": "stream",
     "text": [
      "Vocabulario crudo: 101 tokens únicos\n",
      "Vocabulario normalizado: 68 tokens únicos\n",
      "Vocabulario spaCy: 69 tokens únicos\n",
      "\n",
      "Ejemplos crudo: ['esencial.', 'BPE,', 'clave', 'limitado.', 'al', 'reales.', 'LLMs', 'difícil', 'confuso.', 'principio']\n",
      "Ejemplos normalizado: ['los', 'el', 'clave', 'frustrante', 'perplejidad', 'bpe', 'innovador', 'al', 'tokenización', 'cómo']\n",
      "Ejemplos spaCy: ['el', 'clave', 'frustrante', 'resultar', 'perplejidad', 'bpe', 'complicar', 'innovador', 'al', 'ser']\n"
     ]
    }
   ],
   "source": [
    "# Calcular vocabularios\n",
    "vocab_crudo = set(tokens_crudo)\n",
    "vocab_norm = set(tokens_norm)\n",
    "vocab_spacy = set(tokens_spacy)\n",
    "\n",
    "print(f\"Vocabulario crudo: {len(vocab_crudo)} tokens únicos\")\n",
    "print(f\"Vocabulario normalizado: {len(vocab_norm)} tokens únicos\")\n",
    "print(f\"Vocabulario spaCy: {len(vocab_spacy)} tokens únicos\")\n",
    "\n",
    "# Ejemplos de tokens\n",
    "print(f\"\\nEjemplos crudo: {list(vocab_crudo)[:10]}\")\n",
    "print(f\"Ejemplos normalizado: {list(vocab_norm)[:10]}\")\n",
    "print(f\"Ejemplos spaCy: {list(vocab_spacy)[:10]}\")"
   ]
  },
  {
   "cell_type": "markdown",
   "metadata": {},
   "source": [
    "Como el dataset es muy repetitivo, no hay muchos tokens"
   ]
  },
  {
   "cell_type": "code",
   "execution_count": 19,
   "metadata": {},
   "outputs": [
    {
     "name": "stdout",
     "output_type": "stream",
     "text": [
      "Vocabularios train: crudo=101, norm=68, spacy=69\n"
     ]
    }
   ],
   "source": [
    "## Cálculo de OOV\n",
    "\n",
    "# Dividir datos para OOV: 4500 train, 500 test\n",
    "textos_train = textos[:4500]\n",
    "textos_test = textos[4500:5000]\n",
    "\n",
    "# Construir vocabularios de train\n",
    "vocab_train_crudo = set()\n",
    "for texto in textos_train:\n",
    "    vocab_train_crudo.update(pipeline_crudo(texto))\n",
    "\n",
    "vocab_train_norm = set()\n",
    "for texto in textos_train:\n",
    "    vocab_train_norm.update(pipeline_normalizado(texto))\n",
    "\n",
    "vocab_train_spacy = set()\n",
    "for texto in textos_train:\n",
    "    vocab_train_spacy.update(pipeline_spacy(texto))\n",
    "\n",
    "print(f\"Vocabularios train: crudo={len(vocab_train_crudo)}, norm={len(vocab_train_norm)}, spacy={len(vocab_train_spacy)}\")"
   ]
  },
  {
   "cell_type": "code",
   "execution_count": 20,
   "metadata": {},
   "outputs": [
    {
     "name": "stdout",
     "output_type": "stream",
     "text": [
      "\\nOOV rates:\n",
      "Pipeline crudo: 0.00% (0/4036)\n",
      "Pipeline normalizado: 0.00% (0/4036)\n",
      "Pipeline spaCy: 0.00% (0/4036)\n",
      "\\nEjemplos OOV crudo: []\n",
      "Ejemplos OOV norm: []\n",
      "Ejemplos OOV spacy: []\n"
     ]
    }
   ],
   "source": [
    "# Calcular OOV en test\n",
    "tokens_test_crudo = []\n",
    "tokens_test_norm = []\n",
    "tokens_test_spacy = []\n",
    "\n",
    "for texto in textos_test:\n",
    "    tokens_test_crudo.extend(pipeline_crudo(texto))\n",
    "    tokens_test_norm.extend(pipeline_normalizado(texto))\n",
    "    tokens_test_spacy.extend(pipeline_spacy(texto))\n",
    "\n",
    "# OOV: tokens en test que no están en train\n",
    "oov_crudo = [t for t in tokens_test_crudo if t not in vocab_train_crudo]\n",
    "oov_norm = [t for t in tokens_test_norm if t not in vocab_train_norm]\n",
    "oov_spacy = [t for t in tokens_test_spacy if t not in vocab_train_spacy]\n",
    "\n",
    "# Calcular porcentajes\n",
    "oov_rate_crudo = len(oov_crudo) / len(tokens_test_crudo) * 100\n",
    "oov_rate_norm = len(oov_norm) / len(tokens_test_norm) * 100\n",
    "oov_rate_spacy = len(oov_spacy) / len(tokens_test_spacy) * 100\n",
    "\n",
    "print(f\"\\\\nOOV rates:\")\n",
    "print(f\"Pipeline crudo: {oov_rate_crudo:.2f}% ({len(oov_crudo)}/{len(tokens_test_crudo)})\")\n",
    "print(f\"Pipeline normalizado: {oov_rate_norm:.2f}% ({len(oov_norm)}/{len(tokens_test_norm)})\")\n",
    "print(f\"Pipeline spaCy: {oov_rate_spacy:.2f}% ({len(oov_spacy)}/{len(tokens_test_spacy)})\")\n",
    "\n",
    "# Ejemplos de OOV\n",
    "print(f\"\\\\nEjemplos OOV crudo: {oov_crudo[:5]}\")\n",
    "print(f\"Ejemplos OOV norm: {oov_norm[:5]}\")\n",
    "print(f\"Ejemplos OOV spacy: {oov_spacy[:5]}\")"
   ]
  },
  {
   "cell_type": "markdown",
   "metadata": {},
   "source": [
    "El OOV rate de 0% se debe a que el dataset generado utiliza un vocabulario muy limitado (~100 tokens únicos) que se repiten constantemente a través de plantillas fijas. En un corpus real con vocabulario abierto, esperaríamos OOV rates del 5-15%, especialmente en el pipeline crudo, que se reduciría con normalización y lematización"
   ]
  },
  {
   "cell_type": "code",
   "execution_count": 21,
   "metadata": {},
   "outputs": [
    {
     "name": "stdout",
     "output_type": "stream",
     "text": [
      "Buscando oraciones con code-switching (es/en)...\n",
      "Encontradas 257 oraciones con code-switching\n",
      "\n",
      "3 ejemplos para analizar:\n",
      "1. No entiendo los embeddings vectoriales\n",
      "2. Los LLMs son impresionantes pero complejos\n",
      "3. El curso de NLP es fascinante y útil\n"
     ]
    }
   ],
   "source": [
    "## Análisis de code-switching\n",
    "\n",
    "# Buscar oraciones con palabras en inglés\n",
    "palabras_ingles = ['LLMs', 'embeddings', 'transformers', 'BPE', 'NLP', 'Python']\n",
    "\n",
    "print(\"Buscando oraciones con code-switching (es/en)...\")\n",
    "oraciones_code_switch = []\n",
    "\n",
    "for texto in textos[:500]:  # Buscar en primeras 500\n",
    "    for palabra in palabras_ingles:\n",
    "        if palabra in texto:\n",
    "            oraciones_code_switch.append(texto)\n",
    "            break\n",
    "            \n",
    "# Tomar 3 ejemplos\n",
    "ejemplos_cs = oraciones_code_switch[:3] if oraciones_code_switch else []\n",
    "\n",
    "print(f\"Encontradas {len(oraciones_code_switch)} oraciones con code-switching\")\n",
    "print(\"\\n3 ejemplos para analizar:\")\n",
    "for i, ejemplo in enumerate(ejemplos_cs, 1):\n",
    "    print(f\"{i}. {ejemplo}\")"
   ]
  },
  {
   "cell_type": "code",
   "execution_count": 22,
   "metadata": {},
   "outputs": [
    {
     "name": "stdout",
     "output_type": "stream",
     "text": [
      "\n",
      "Análisis de code-switching:\n",
      "\n",
      "Ejemplo 1: 'No entiendo los embeddings vectoriales'\n",
      "  Crudo: ['No', 'entiendo', 'los', 'embeddings', 'vectoriales']\n",
      "  Normalizado: ['no', 'entiendo', 'los', 'embeddings', 'vectoriales']\n",
      "  spaCy: ['no', 'entender', 'el', 'embedding', 'vectorial']\n",
      "  → 'embeddings' se convierte en:\n",
      "     - Normalizado: 'embeddings'\n",
      "     - spaCy: 'embeddings'\n",
      "\n",
      "Ejemplo 2: 'Los LLMs son impresionantes pero complejos'\n",
      "  Crudo: ['Los', 'LLMs', 'son', 'impresionantes', 'pero', 'complejos']\n",
      "  Normalizado: ['los', 'llms', 'son', 'impresionantes', 'pero', 'complejos']\n",
      "  spaCy: ['el', 'llm', 'ser', 'impresionante', 'pero', 'complejo']\n",
      "  → 'LLMs' se convierte en:\n",
      "     - Normalizado: 'llms'\n",
      "     - spaCy: 'llms'\n",
      "\n",
      "Ejemplo 3: 'El curso de NLP es fascinante y útil'\n",
      "  Crudo: ['El', 'curso', 'de', 'NLP', 'es', 'fascinante', 'y', 'útil']\n",
      "  Normalizado: ['el', 'curso', 'de', 'nlp', 'es', 'fascinante', 'y', 'útil']\n",
      "  spaCy: ['el', 'curso', 'de', 'nlp', 'ser', 'fascinante', 'y', 'útil']\n",
      "  → 'NLP' se convierte en:\n",
      "     - Normalizado: 'nlp'\n",
      "     - spaCy: 'nlp'\n"
     ]
    }
   ],
   "source": [
    "# Analizar los 3 ejemplos con cada pipeline\n",
    "print(\"\\nAnálisis de code-switching:\")\n",
    "for i, ejemplo in enumerate(ejemplos_cs, 1):\n",
    "    print(f\"\\nEjemplo {i}: '{ejemplo}'\")\n",
    "    \n",
    "    tokens_a = pipeline_crudo(ejemplo)\n",
    "    tokens_b = pipeline_normalizado(ejemplo)\n",
    "    tokens_c = pipeline_spacy(ejemplo)\n",
    "    \n",
    "    print(f\"  Crudo: {tokens_a}\")\n",
    "    print(f\"  Normalizado: {tokens_b}\")\n",
    "    print(f\"  spaCy: {tokens_c}\")\n",
    "    \n",
    "    # Identificar cambios\n",
    "    for palabra in palabras_ingles:\n",
    "        if palabra in ejemplo:\n",
    "            print(f\"  → '{palabra}' se convierte en:\")\n",
    "            print(f\"     - Normalizado: '{palabra.lower()}'\")\n",
    "            # Ver qué hace spaCy\n",
    "            doc = nlp(palabra.lower())\n",
    "            lemma = [t.lemma_ for t in doc][0] if doc else palabra.lower()\n",
    "            print(f\"     - spaCy: '{lemma}'\")"
   ]
  },
  {
   "cell_type": "code",
   "execution_count": null,
   "metadata": {},
   "outputs": [],
   "source": []
  }
 ],
 "metadata": {
  "kernelspec": {
   "display_name": "Python 3",
   "language": "python",
   "name": "python3"
  },
  "language_info": {
   "name": "python",
   "version": "3.13.7"
  }
 },
 "nbformat": 4,
 "nbformat_minor": 2
}